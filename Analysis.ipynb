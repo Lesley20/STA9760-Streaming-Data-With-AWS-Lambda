{
 "cells": [
  {
   "cell_type": "markdown",
   "metadata": {},
   "source": [
    "## Some Simple Visuals from Results.csv "
   ]
  },
  {
   "cell_type": "code",
   "execution_count": 1,
   "metadata": {},
   "outputs": [],
   "source": [
    "import pandas as pd\n",
    "import numpy as np\n",
    "import matplotlib.pyplot as plt\n",
    "import seaborn as sns"
   ]
  },
  {
   "cell_type": "code",
   "execution_count": 3,
   "metadata": {},
   "outputs": [],
   "source": [
    "results = pd.read_csv('results.csv')"
   ]
  },
  {
   "cell_type": "code",
   "execution_count": 4,
   "metadata": {},
   "outputs": [
    {
     "data": {
      "text/html": [
       "<div>\n",
       "<style scoped>\n",
       "    .dataframe tbody tr th:only-of-type {\n",
       "        vertical-align: middle;\n",
       "    }\n",
       "\n",
       "    .dataframe tbody tr th {\n",
       "        vertical-align: top;\n",
       "    }\n",
       "\n",
       "    .dataframe thead th {\n",
       "        text-align: right;\n",
       "    }\n",
       "</style>\n",
       "<table border=\"1\" class=\"dataframe\">\n",
       "  <thead>\n",
       "    <tr style=\"text-align: right;\">\n",
       "      <th></th>\n",
       "      <th>name</th>\n",
       "      <th>hour</th>\n",
       "      <th>high</th>\n",
       "      <th>ts</th>\n",
       "    </tr>\n",
       "  </thead>\n",
       "  <tbody>\n",
       "    <tr>\n",
       "      <th>0</th>\n",
       "      <td>BYND</td>\n",
       "      <td>9</td>\n",
       "      <td>137.970001</td>\n",
       "      <td>2020-05-14 09:39:00</td>\n",
       "    </tr>\n",
       "    <tr>\n",
       "      <th>1</th>\n",
       "      <td>BYND</td>\n",
       "      <td>10</td>\n",
       "      <td>139.559998</td>\n",
       "      <td>2020-05-14 10:31:00</td>\n",
       "    </tr>\n",
       "    <tr>\n",
       "      <th>2</th>\n",
       "      <td>BYND</td>\n",
       "      <td>11</td>\n",
       "      <td>141.000000</td>\n",
       "      <td>2020-05-14 11:15:00</td>\n",
       "    </tr>\n",
       "    <tr>\n",
       "      <th>3</th>\n",
       "      <td>BYND</td>\n",
       "      <td>12</td>\n",
       "      <td>138.240005</td>\n",
       "      <td>2020-05-14 12:57:00</td>\n",
       "    </tr>\n",
       "    <tr>\n",
       "      <th>4</th>\n",
       "      <td>BYND</td>\n",
       "      <td>13</td>\n",
       "      <td>137.789902</td>\n",
       "      <td>2020-05-14 13:00:00</td>\n",
       "    </tr>\n",
       "    <tr>\n",
       "      <th>...</th>\n",
       "      <td>...</td>\n",
       "      <td>...</td>\n",
       "      <td>...</td>\n",
       "      <td>...</td>\n",
       "    </tr>\n",
       "    <tr>\n",
       "      <th>77</th>\n",
       "      <td>TTD</td>\n",
       "      <td>11</td>\n",
       "      <td>296.856293</td>\n",
       "      <td>2020-05-14 11:18:00</td>\n",
       "    </tr>\n",
       "    <tr>\n",
       "      <th>78</th>\n",
       "      <td>TTD</td>\n",
       "      <td>12</td>\n",
       "      <td>294.500000</td>\n",
       "      <td>2020-05-14 12:57:00</td>\n",
       "    </tr>\n",
       "    <tr>\n",
       "      <th>79</th>\n",
       "      <td>TTD</td>\n",
       "      <td>13</td>\n",
       "      <td>296.000000</td>\n",
       "      <td>2020-05-14 13:31:00</td>\n",
       "    </tr>\n",
       "    <tr>\n",
       "      <th>80</th>\n",
       "      <td>TTD</td>\n",
       "      <td>14</td>\n",
       "      <td>295.769989</td>\n",
       "      <td>2020-05-14 14:59:00</td>\n",
       "    </tr>\n",
       "    <tr>\n",
       "      <th>81</th>\n",
       "      <td>TTD</td>\n",
       "      <td>15</td>\n",
       "      <td>297.670013</td>\n",
       "      <td>2020-05-14 15:24:00</td>\n",
       "    </tr>\n",
       "  </tbody>\n",
       "</table>\n",
       "<p>82 rows × 4 columns</p>\n",
       "</div>"
      ],
      "text/plain": [
       "    name  hour        high                   ts\n",
       "0   BYND     9  137.970001  2020-05-14 09:39:00\n",
       "1   BYND    10  139.559998  2020-05-14 10:31:00\n",
       "2   BYND    11  141.000000  2020-05-14 11:15:00\n",
       "3   BYND    12  138.240005  2020-05-14 12:57:00\n",
       "4   BYND    13  137.789902  2020-05-14 13:00:00\n",
       "..   ...   ...         ...                  ...\n",
       "77   TTD    11  296.856293  2020-05-14 11:18:00\n",
       "78   TTD    12  294.500000  2020-05-14 12:57:00\n",
       "79   TTD    13  296.000000  2020-05-14 13:31:00\n",
       "80   TTD    14  295.769989  2020-05-14 14:59:00\n",
       "81   TTD    15  297.670013  2020-05-14 15:24:00\n",
       "\n",
       "[82 rows x 4 columns]"
      ]
     },
     "execution_count": 4,
     "metadata": {},
     "output_type": "execute_result"
    }
   ],
   "source": [
    "results"
   ]
  },
  {
   "cell_type": "markdown",
   "metadata": {},
   "source": [
    "##### This figure gives an overall picture of how each stock pring range at May 14, 2020"
   ]
  },
  {
   "cell_type": "code",
   "execution_count": 19,
   "metadata": {},
   "outputs": [
    {
     "data": {
      "text/plain": [
       "<seaborn.axisgrid.FacetGrid at 0x1a1dc2f090>"
      ]
     },
     "execution_count": 19,
     "metadata": {},
     "output_type": "execute_result"
    },
    {
     "data": {
      "image/png": "[encoded data removed]",
      "text/plain": [
       "<Figure size 427x360 with 1 Axes>"
      ]
     },
     "metadata": {
      "needs_background": "light"
     },
     "output_type": "display_data"
    }
   ],
   "source": [
    " sns.relplot(x = 'hour', y = 'high', hue = \"name\",data = results)"
   ]
  },
  {
   "cell_type": "code",
   "execution_count": 6,
   "metadata": {},
   "outputs": [
    {
     "data": {
      "text/html": [
       "<div>\n",
       "<style scoped>\n",
       "    .dataframe tbody tr th:only-of-type {\n",
       "        vertical-align: middle;\n",
       "    }\n",
       "\n",
       "    .dataframe tbody tr th {\n",
       "        vertical-align: top;\n",
       "    }\n",
       "\n",
       "    .dataframe thead th {\n",
       "        text-align: right;\n",
       "    }\n",
       "</style>\n",
       "<table border=\"1\" class=\"dataframe\">\n",
       "  <thead>\n",
       "    <tr style=\"text-align: right;\">\n",
       "      <th></th>\n",
       "      <th>hour</th>\n",
       "      <th>high</th>\n",
       "      <th>ts</th>\n",
       "    </tr>\n",
       "    <tr>\n",
       "      <th>name</th>\n",
       "      <th></th>\n",
       "      <th></th>\n",
       "      <th></th>\n",
       "    </tr>\n",
       "  </thead>\n",
       "  <tbody>\n",
       "    <tr>\n",
       "      <th>BYND</th>\n",
       "      <td>7</td>\n",
       "      <td>7</td>\n",
       "      <td>7</td>\n",
       "    </tr>\n",
       "    <tr>\n",
       "      <th>DDOG</th>\n",
       "      <td>10</td>\n",
       "      <td>10</td>\n",
       "      <td>10</td>\n",
       "    </tr>\n",
       "    <tr>\n",
       "      <th>FB</th>\n",
       "      <td>7</td>\n",
       "      <td>7</td>\n",
       "      <td>7</td>\n",
       "    </tr>\n",
       "    <tr>\n",
       "      <th>NFLX</th>\n",
       "      <td>7</td>\n",
       "      <td>7</td>\n",
       "      <td>7</td>\n",
       "    </tr>\n",
       "    <tr>\n",
       "      <th>OKTA</th>\n",
       "      <td>9</td>\n",
       "      <td>9</td>\n",
       "      <td>9</td>\n",
       "    </tr>\n",
       "    <tr>\n",
       "      <th>PINS</th>\n",
       "      <td>11</td>\n",
       "      <td>11</td>\n",
       "      <td>11</td>\n",
       "    </tr>\n",
       "    <tr>\n",
       "      <th>SHOP</th>\n",
       "      <td>8</td>\n",
       "      <td>8</td>\n",
       "      <td>8</td>\n",
       "    </tr>\n",
       "    <tr>\n",
       "      <th>SNAP</th>\n",
       "      <td>9</td>\n",
       "      <td>9</td>\n",
       "      <td>9</td>\n",
       "    </tr>\n",
       "    <tr>\n",
       "      <th>SQ</th>\n",
       "      <td>7</td>\n",
       "      <td>7</td>\n",
       "      <td>7</td>\n",
       "    </tr>\n",
       "    <tr>\n",
       "      <th>TTD</th>\n",
       "      <td>7</td>\n",
       "      <td>7</td>\n",
       "      <td>7</td>\n",
       "    </tr>\n",
       "  </tbody>\n",
       "</table>\n",
       "</div>"
      ],
      "text/plain": [
       "      hour  high  ts\n",
       "name                \n",
       "BYND     7     7   7\n",
       "DDOG    10    10  10\n",
       "FB       7     7   7\n",
       "NFLX     7     7   7\n",
       "OKTA     9     9   9\n",
       "PINS    11    11  11\n",
       "SHOP     8     8   8\n",
       "SNAP     9     9   9\n",
       "SQ       7     7   7\n",
       "TTD      7     7   7"
      ]
     },
     "execution_count": 6,
     "metadata": {},
     "output_type": "execute_result"
    }
   ],
   "source": [
    "results.groupby('name').count()"
   ]
  },
  {
   "cell_type": "markdown",
   "metadata": {},
   "source": [
    "##### By reviewing this table, it means that at some hours, some companies have the highest price more than once. Take a look into DDOG and PINS, see if there is anything interesting"
   ]
  },
  {
   "cell_type": "code",
   "execution_count": 5,
   "metadata": {},
   "outputs": [],
   "source": [
    "ddog = results[results.name=='DDOG']\n",
    "pins = results[results.name=='PINS']"
   ]
  },
  {
   "cell_type": "code",
   "execution_count": 6,
   "metadata": {},
   "outputs": [
    {
     "name": "stderr",
     "output_type": "stream",
     "text": [
      "/Users/mei/opt/anaconda3/lib/python3.7/site-packages/ipykernel_launcher.py:1: SettingWithCopyWarning: \n",
      "A value is trying to be set on a copy of a slice from a DataFrame.\n",
      "Try using .loc[row_indexer,col_indexer] = value instead\n",
      "\n",
      "See the caveats in the documentation: https://pandas.pydata.org/pandas-docs/stable/user_guide/indexing.html#returning-a-view-versus-a-copy\n",
      "  \"\"\"Entry point for launching an IPython kernel.\n"
     ]
    }
   ],
   "source": [
    "# create a new column called times that reformat the value of the timestamp column\n",
    "# only keeping time, remove date\n",
    "\n",
    "ddog['times']=ddog['ts'].str.slice(11,18)"
   ]
  },
  {
   "cell_type": "code",
   "execution_count": 7,
   "metadata": {},
   "outputs": [
    {
     "data": {
      "text/html": [
       "<div>\n",
       "<style scoped>\n",
       "    .dataframe tbody tr th:only-of-type {\n",
       "        vertical-align: middle;\n",
       "    }\n",
       "\n",
       "    .dataframe tbody tr th {\n",
       "        vertical-align: top;\n",
       "    }\n",
       "\n",
       "    .dataframe thead th {\n",
       "        text-align: right;\n",
       "    }\n",
       "</style>\n",
       "<table border=\"1\" class=\"dataframe\">\n",
       "  <thead>\n",
       "    <tr style=\"text-align: right;\">\n",
       "      <th></th>\n",
       "      <th>name</th>\n",
       "      <th>hour</th>\n",
       "      <th>high</th>\n",
       "      <th>ts</th>\n",
       "      <th>times</th>\n",
       "    </tr>\n",
       "  </thead>\n",
       "  <tbody>\n",
       "    <tr>\n",
       "      <th>7</th>\n",
       "      <td>DDOG</td>\n",
       "      <td>9</td>\n",
       "      <td>67.250000</td>\n",
       "      <td>2020-05-14 09:32:00</td>\n",
       "      <td>09:32:0</td>\n",
       "    </tr>\n",
       "    <tr>\n",
       "      <th>8</th>\n",
       "      <td>DDOG</td>\n",
       "      <td>10</td>\n",
       "      <td>66.550003</td>\n",
       "      <td>2020-05-14 10:09:00</td>\n",
       "      <td>10:09:0</td>\n",
       "    </tr>\n",
       "    <tr>\n",
       "      <th>9</th>\n",
       "      <td>DDOG</td>\n",
       "      <td>11</td>\n",
       "      <td>65.000000</td>\n",
       "      <td>2020-05-14 11:05:00</td>\n",
       "      <td>11:05:0</td>\n",
       "    </tr>\n",
       "    <tr>\n",
       "      <th>10</th>\n",
       "      <td>DDOG</td>\n",
       "      <td>11</td>\n",
       "      <td>65.000000</td>\n",
       "      <td>2020-05-14 11:06:00</td>\n",
       "      <td>11:06:0</td>\n",
       "    </tr>\n",
       "    <tr>\n",
       "      <th>11</th>\n",
       "      <td>DDOG</td>\n",
       "      <td>11</td>\n",
       "      <td>65.000000</td>\n",
       "      <td>2020-05-14 11:16:00</td>\n",
       "      <td>11:16:0</td>\n",
       "    </tr>\n",
       "    <tr>\n",
       "      <th>12</th>\n",
       "      <td>DDOG</td>\n",
       "      <td>11</td>\n",
       "      <td>65.000000</td>\n",
       "      <td>2020-05-14 11:20:00</td>\n",
       "      <td>11:20:0</td>\n",
       "    </tr>\n",
       "    <tr>\n",
       "      <th>13</th>\n",
       "      <td>DDOG</td>\n",
       "      <td>12</td>\n",
       "      <td>64.879997</td>\n",
       "      <td>2020-05-14 12:54:00</td>\n",
       "      <td>12:54:0</td>\n",
       "    </tr>\n",
       "    <tr>\n",
       "      <th>14</th>\n",
       "      <td>DDOG</td>\n",
       "      <td>13</td>\n",
       "      <td>65.000000</td>\n",
       "      <td>2020-05-14 13:02:00</td>\n",
       "      <td>13:02:0</td>\n",
       "    </tr>\n",
       "    <tr>\n",
       "      <th>15</th>\n",
       "      <td>DDOG</td>\n",
       "      <td>14</td>\n",
       "      <td>64.129997</td>\n",
       "      <td>2020-05-14 14:48:00</td>\n",
       "      <td>14:48:0</td>\n",
       "    </tr>\n",
       "    <tr>\n",
       "      <th>16</th>\n",
       "      <td>DDOG</td>\n",
       "      <td>15</td>\n",
       "      <td>65.869904</td>\n",
       "      <td>2020-05-14 15:54:00</td>\n",
       "      <td>15:54:0</td>\n",
       "    </tr>\n",
       "  </tbody>\n",
       "</table>\n",
       "</div>"
      ],
      "text/plain": [
       "    name  hour       high                   ts    times\n",
       "7   DDOG     9  67.250000  2020-05-14 09:32:00  09:32:0\n",
       "8   DDOG    10  66.550003  2020-05-14 10:09:00  10:09:0\n",
       "9   DDOG    11  65.000000  2020-05-14 11:05:00  11:05:0\n",
       "10  DDOG    11  65.000000  2020-05-14 11:06:00  11:06:0\n",
       "11  DDOG    11  65.000000  2020-05-14 11:16:00  11:16:0\n",
       "12  DDOG    11  65.000000  2020-05-14 11:20:00  11:20:0\n",
       "13  DDOG    12  64.879997  2020-05-14 12:54:00  12:54:0\n",
       "14  DDOG    13  65.000000  2020-05-14 13:02:00  13:02:0\n",
       "15  DDOG    14  64.129997  2020-05-14 14:48:00  14:48:0\n",
       "16  DDOG    15  65.869904  2020-05-14 15:54:00  15:54:0"
      ]
     },
     "execution_count": 7,
     "metadata": {},
     "output_type": "execute_result"
    }
   ],
   "source": [
    "ddog"
   ]
  },
  {
   "cell_type": "code",
   "execution_count": 16,
   "metadata": {},
   "outputs": [
    {
     "data": {
      "text/plain": [
       "<matplotlib.axes._subplots.AxesSubplot at 0x1a274e3c90>"
      ]
     },
     "execution_count": 16,
     "metadata": {},
     "output_type": "execute_result"
    },
    {
     "data": {
      "image/png": "[encoded data removed]",
      "text/plain": [
       "<Figure size 1440x720 with 1 Axes>"
      ]
     },
     "metadata": {
      "needs_background": "light"
     },
     "output_type": "display_data"
    }
   ],
   "source": [
    "plt.figure(figsize=(20,10))\n",
    "sns.lineplot(x = 'times', y = 'high', color = '#91A8d0', data=ddog)"
   ]
  },
  {
   "cell_type": "markdown",
   "metadata": {},
   "source": [
    "##### During the hour of 11 AM to Noon, the highest stock price of that hour for company DDOG has occured 4 times. "
   ]
  },
  {
   "cell_type": "markdown",
   "metadata": {},
   "source": [
    "###### Plot company PINS in general"
   ]
  },
  {
   "cell_type": "code",
   "execution_count": 13,
   "metadata": {},
   "outputs": [
    {
     "data": {
      "text/plain": [
       "<matplotlib.axes._subplots.AxesSubplot at 0x1a270ba810>"
      ]
     },
     "execution_count": 13,
     "metadata": {},
     "output_type": "execute_result"
    },
    {
     "data": {
      "image/png": "[encoded data removed]",
      "text/plain": [
       "<Figure size 432x288 with 1 Axes>"
      ]
     },
     "metadata": {
      "needs_background": "light"
     },
     "output_type": "display_data"
    }
   ],
   "source": [
    "sns.lineplot(x = 'hour', y = 'high', color = '#f7cac9', data=pins)"
   ]
  },
  {
   "cell_type": "markdown",
   "metadata": {},
   "source": [
    "##### Comparing company DDOG and PINS, there is a trend of price dropping from 1:00PM to 2:00PM. "
   ]
  }
 ],
 "metadata": {
  "kernelspec": {
   "display_name": "Python 3",
   "language": "python",
   "name": "python3"
  },
  "language_info": {
   "codemirror_mode": {
    "name": "ipython",
    "version": 3
   },
   "file_extension": ".py",
   "mimetype": "text/x-python",
   "name": "python",
   "nbconvert_exporter": "python",
   "pygments_lexer": "ipython3",
   "version": "3.7.6"
  }
 },
 "nbformat": 4,
 "nbformat_minor": 4
}
